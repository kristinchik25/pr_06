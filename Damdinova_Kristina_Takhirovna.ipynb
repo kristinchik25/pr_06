{
 "cells": [
  {
   "cell_type": "markdown",
   "id": "dba0262a",
   "metadata": {},
   "source": [
    "# Практическая работа 6. Аналитика с использованием сложных типов данных. Поиск и анализ продаж"
   ]
  },
  {
   "cell_type": "markdown",
   "id": "75b431c1",
   "metadata": {},
   "source": [
    "### Подготовка к выполнению индивидуальных заданий"
   ]
  },
  {
   "cell_type": "code",
   "execution_count": 1,
   "id": "375cdfa3",
   "metadata": {},
   "outputs": [
    {
     "name": "stdout",
     "output_type": "stream",
     "text": [
      "Requirement already satisfied: psycopg2 in c:\\users\\damdi\\appdata\\local\\programs\\python\\python312\\lib\\site-packages (2.9.10)\n",
      "Note: you may need to restart the kernel to use updated packages.\n"
     ]
    },
    {
     "name": "stderr",
     "output_type": "stream",
     "text": [
      "\n",
      "[notice] A new release of pip is available: 23.2.1 -> 25.0.1\n",
      "[notice] To update, run: python.exe -m pip install --upgrade pip\n"
     ]
    }
   ],
   "source": [
    "%pip install psycopg2"
   ]
  },
  {
   "cell_type": "code",
   "execution_count": 2,
   "id": "b13870dd",
   "metadata": {},
   "outputs": [],
   "source": [
    "import psycopg2\n",
    "from psycopg2 import Error"
   ]
  },
  {
   "cell_type": "markdown",
   "id": "b35763b6",
   "metadata": {},
   "source": [
    "# Задание 2. Скопируйте данные public_transportation_statistics_by_zip_code.csv в базу данных клиентов организации, создав для них таблицу в наборе данных."
   ]
  },
  {
   "cell_type": "markdown",
   "id": "5ccd1d87",
   "metadata": {},
   "source": [
    "### Создаем таблицу public_transportation_statistics_by_zip_code"
   ]
  },
  {
   "cell_type": "code",
   "execution_count": null,
   "id": "526eeb54",
   "metadata": {},
   "outputs": [
    {
     "name": "stdout",
     "output_type": "stream",
     "text": [
      "Таблица 'public_transportation_statistics_by_zip_code' успешно создана\n",
      "Соединение с PostgreSQL закрыто\n"
     ]
    }
   ],
   "source": [
    "import psycopg2\n",
    "\n",
    "def get_connection(database_name):\n",
    "    # Функция для получения подключения к базе данных\n",
    "    connection = psycopg2.connect(user=\"postgres\",\n",
    "                                  password=\"1\",\n",
    "                                  host=\"localhost\",\n",
    "                                  port=\"5432\",\n",
    "                                  database=\"postgres\")\n",
    "    return connection\n",
    "\n",
    "def close_connection(connection):\n",
    "    # Функция для закрытия подключения к базе данных\n",
    "    if connection:\n",
    "        connection.close()\n",
    "        print(\"Соединение с PostgreSQL закрыто\")\n",
    "\n",
    "try:\n",
    "    # Подключение к базе данных \n",
    "    connection = get_connection(\"postgres\")\n",
    "    cursor = connection.cursor()\n",
    "\n",
    "    # Создание таблицы public_transportation_statistics_by_zip_code\n",
    "    create_table_query = '''\n",
    "    CREATE TABLE public_transportation_statistics_by_zip_code(\n",
    "        zip_code character varying(10) NOT NULL PRIMARY KEY,\n",
    "        public_transportation_pct numeric(15,2) NOT NULL,\n",
    "        public_transportation_population integer\n",
    "    );\n",
    "    '''\n",
    "    cursor.execute(create_table_query)\n",
    "    connection.commit()\n",
    "    print(\"Таблица 'public_transportation_statistics_by_zip_code' успешно создана\")\n",
    "\n",
    "except (Exception, psycopg2.Error) as error:\n",
    "    print(\"Ошибка при подключении или работе с PostgreSQL:\", error)\n",
    "\n",
    "finally:\n",
    "    # Закрытие подключения к базе данных\n",
    "    if connection:\n",
    "        close_connection(connection)"
   ]
  },
  {
   "cell_type": "markdown",
   "id": "bd95641b",
   "metadata": {},
   "source": [
    "### Заполнение таблицы данными"
   ]
  },
  {
   "cell_type": "code",
   "execution_count": null,
   "id": "dd85a589",
   "metadata": {},
   "outputs": [
    {
     "name": "stdout",
     "output_type": "stream",
     "text": [
      "Данные успешно вставлены в таблицу 'public_transportation_statistics_by_zip_code'\n",
      "Соединение с PostgreSQL закрыто\n"
     ]
    }
   ],
   "source": [
    "import psycopg2\n",
    "import os\n",
    "\n",
    "def get_connection(database_name):\n",
    "    # Функция для получения подключения к базе данных\n",
    "    connection = psycopg2.connect(user=\"postgres\",\n",
    "                                  password=\"1\",\n",
    "                                  host=\"localhost\",\n",
    "                                  port=\"5432\",\n",
    "                                  database=database_name)\n",
    "    return connection\n",
    "\n",
    "def close_connection(connection):\n",
    "    # Функция для закрытия подключения к базе данных\n",
    "    if connection:\n",
    "        connection.close()\n",
    "        print(\"Соединение с PostgreSQL закрыто\")\n",
    "\n",
    "try:\n",
    "    connection = get_connection(\"postgres\")\n",
    "    cursor = connection.cursor()\n",
    "\n",
    "# Путь к CSV-файлу\n",
    "    csv_file_path = r\"C:\\Users\\damdi\\Desktop\\уник\\Практикум sql\\ПР6\\public_transportation_statistics_by_zip_code.csv\"\n",
    "\n",
    "    # Проверка существования файла\n",
    "    if not os.path.exists(csv_file_path):\n",
    "        print(f\"ОШИБКА: Файл '{csv_file_path}' не найден.\")\n",
    "        raise False # Возвращаем False при неудаче\n",
    "    \n",
    "    # Вставка данных из CSV-файла  \n",
    "    with open(csv_file_path, 'r') as file:\n",
    "        copy_query = \"\"\"\n",
    "        COPY public_transportation_statistics_by_zip_code(zip_code, public_transportation_pct, public_transportation_population)\n",
    "        FROM STDIN WITH (FORMAT csv, HEADER true, DELIMITER ',');\n",
    "        \"\"\"\n",
    "        cursor.copy_expert(copy_query, file)\n",
    "        connection.commit()\n",
    "        print(\"Данные успешно вставлены в таблицу 'public_transportation_statistics_by_zip_code'\")\n",
    "\n",
    "except (Exception, psycopg2.Error) as error:\n",
    "    print(\"Ошибка при подключении или работе с PostgreSQL:\", error)\n",
    "\n",
    "finally:\n",
    "    # Закрытие подключения к базе данных\n",
    "    if connection:\n",
    "        close_connection(connection)"
   ]
  },
  {
   "cell_type": "markdown",
   "id": "31787ba4",
   "metadata": {},
   "source": [
    "# Задание 3. Найдите максимальное и минимальное процентное соотношение в данных. Значения ниже 0 принять как пустое значение."
   ]
  },
  {
   "cell_type": "code",
   "execution_count": null,
   "id": "c74989c1",
   "metadata": {},
   "outputs": [
    {
     "name": "stdout",
     "output_type": "stream",
     "text": [
      "Максимальное процентное соотношение: 100.00\n",
      "Минимальное процентное соотношение: 0.00\n",
      "Соединение с PostgreSQL закрыто\n"
     ]
    }
   ],
   "source": [
    "import psycopg2\n",
    "\n",
    "def get_connection(database_name):\n",
    "    # Функция для получения подключения к базе данных\n",
    "    connection = psycopg2.connect(user=\"postgres\",\n",
    "                                  password=\"1\",\n",
    "                                  host=\"localhost\",\n",
    "                                  port=\"5432\",\n",
    "                                  database=database_name)\n",
    "    return connection\n",
    "\n",
    "def close_connection(connection):\n",
    "    # Функция для закрытия подключения к базе данных\n",
    "    if connection:\n",
    "        connection.close()\n",
    "        print(\"Соединение с PostgreSQL закрыто\")\n",
    "\n",
    "try:\n",
    "    # Подключение к базе данных\n",
    "    connection = get_connection(\"postgres\")\n",
    "    cursor = connection.cursor()\n",
    "\n",
    "    # Sql-запрос \n",
    "    query = \"\"\"\n",
    "    SELECT \n",
    "        MAX(public_transportation_pct) AS max_pct,\n",
    "        MIN(public_transportation_pct) AS min_pct\n",
    "    FROM public_transportation_statistics_by_zip_code\n",
    "    WHERE public_transportation_pct >= 0;\n",
    "    \"\"\"\n",
    "    cursor.execute(query)\n",
    "    result = cursor.fetchone()\n",
    "    max_pct, min_pct = result\n",
    "    print(f\"Максимальное процентное соотношение: {max_pct}\")\n",
    "    print(f\"Минимальное процентное соотношение: {min_pct}\")\n",
    "\n",
    "except (Exception, psycopg2.Error) as error:\n",
    "    print(\"Ошибка при подключении или работе с PostgreSQL:\", error)\n",
    "\n",
    "finally:\n",
    "    # Закрытие подключения к базе данных\n",
    "    if connection:\n",
    "        close_connection(connection)"
   ]
  },
  {
   "cell_type": "markdown",
   "id": "241632da",
   "metadata": {},
   "source": [
    "# Задание 4. Рассчитайте средний объем продаж для клиентов, проживающих в регионах с высоким уровнем использования общественного транспорта (более 10%), а также с низким уровнем использования общественного транспорта (менее или равным 10%)."
   ]
  },
  {
   "cell_type": "code",
   "execution_count": null,
   "id": "bad79f2d",
   "metadata": {},
   "outputs": [
    {
     "name": "stdout",
     "output_type": "stream",
     "text": [
      "Уровень использования транспорта, средний объем продаж\n",
      "Низкий уровень, 7261.72734653827\n",
      "Высокий уровень, 6501.975632632401\n",
      "Соединение с PostgreSQL закрыто\n"
     ]
    }
   ],
   "source": [
    "import psycopg2\n",
    "\n",
    "def get_connection(database_name):\n",
    "    # Функция для получения подключения к базе данных\n",
    "    connection = psycopg2.connect(user=\"postgres\",\n",
    "                                  password=\"1\",\n",
    "                                  host=\"localhost\",\n",
    "                                  port=\"5432\",\n",
    "                                  database=database_name)\n",
    "    return connection\n",
    "\n",
    "def close_connection(connection):\n",
    "    # Функция для закрытия подключения к базе данных\n",
    "    if connection:\n",
    "        connection.close()\n",
    "        print(\"Соединение с PostgreSQL закрыто\")\n",
    "\n",
    "try:\n",
    "    # Подключение к базе данных\n",
    "    connection = get_connection(\"postgres\")\n",
    "    cursor = connection.cursor()\n",
    "\n",
    "    # SQL-запрос \n",
    "    query = \"\"\"\n",
    "    SELECT \n",
    "    CASE \n",
    "        WHEN pts.public_transportation_pct > 10 THEN 'Высокий уровень'\n",
    "        ELSE 'Низкий уровень'\n",
    "    END AS \"Уровень использования транспорта\",\n",
    "    AVG(s.sales_amount) AS \"Средний объем продаж\"\n",
    "FROM \n",
    "    sales s\n",
    "JOIN \n",
    "    customers c ON s.customer_id = c.customer_id\n",
    "JOIN \n",
    "    public_transportation_statistics_by_zip_code pts ON c.postal_code = pts.zip_code\n",
    "GROUP BY \n",
    "    CASE \n",
    "        WHEN pts.public_transportation_pct > 10 THEN 'Высокий уровень'\n",
    "        ELSE 'Низкий уровень'\n",
    "    END;\n",
    "    \"\"\"\n",
    "    cursor.execute(query)\n",
    "    results = cursor.fetchall()\n",
    "\n",
    "# Вывод результатов\n",
    "    print(\"Уровень использования транспорта, средний объем продаж\")\n",
    "    for row in results:\n",
    "        category, avg_sales = row\n",
    "        print(f\"{category}, {avg_sales}\")\n",
    "\n",
    "except (Exception, psycopg2.Error) as error:\n",
    "    print(\"Ошибка при подключении или работе с PostgreSQL:\", error)\n",
    "\n",
    "finally:\n",
    "    # Закрытие подключения к базе данных\n",
    "    if connection:\n",
    "        close_connection(connection)"
   ]
  },
  {
   "cell_type": "markdown",
   "id": "bc06fa50",
   "metadata": {},
   "source": [
    "# Задание 5. Загрузить данные в pandas и построить гистограмму распределения (использовать my_data.plot.hist(y='public_transportation_pct') для построения гистограммы)."
   ]
  },
  {
   "cell_type": "code",
   "execution_count": null,
   "id": "f2f3a6d2",
   "metadata": {},
   "outputs": [
    {
     "name": "stderr",
     "output_type": "stream",
     "text": [
      "C:\\Users\\damdi\\AppData\\Local\\Temp\\ipykernel_20620\\1544381813.py:22: UserWarning: pandas only supports SQLAlchemy connectable (engine/connection) or database string URI or sqlite3 DBAPI2 connection. Other DBAPI2 objects are not tested. Please consider using SQLAlchemy.\n",
      "  my_data = pandas.read_sql(query, connection)\n"
     ]
    },
    {
     "data": {
      "image/png": "[encoded data removed]",
      "text/plain": [
       "<Figure size 640x480 with 1 Axes>"
      ]
     },
     "metadata": {},
     "output_type": "display_data"
    },
    {
     "name": "stdout",
     "output_type": "stream",
     "text": [
      "Соединение с PostgreSQL закрыто\n"
     ]
    }
   ],
   "source": [
    "import psycopg2\n",
    "import pandas\n",
    "import matplotlib.pyplot as plt\n",
    "\n",
    "def get_connection(database_name):\n",
    "    # Функция для получения подключения к базе данных\n",
    "    connection = psycopg2.connect(user=\"postgres\",\n",
    "                                  password=\"1\",\n",
    "                                  host=\"localhost\",\n",
    "                                  port=\"5432\",\n",
    "                                  database=database_name)\n",
    "    return connection\n",
    "\n",
    "try:\n",
    "    # Подключение к базе данных\n",
    "    connection = get_connection(\"postgres\")\n",
    "    \n",
    "    # SQL-запрос для получения данных\n",
    "    query = \"SELECT * FROM public_transportation_statistics_by_zip_code WHERE public_transportation_pct >= 0;\"\n",
    "    \n",
    "    # Загрузка в DataFrame\n",
    "    my_data = pandas.read_sql(query, connection)\n",
    "\n",
    "    # Построение гистограммы распределения\n",
    "    my_data.plot.hist(y='public_transportation_pct')\n",
    "    plt.title('Распределение использования общественного транспорта')\n",
    "    plt.xlabel('Процент использования общественного транспорта')\n",
    "    plt.ylabel('Частота использования')\n",
    "    plt.show()\n",
    "\n",
    "except (Exception, psycopg2.Error) as error:\n",
    "    print(\"Ошибка при подключении или работе с PostgreSQL:\", error)\n",
    "\n",
    "finally:\n",
    "    # Закрытие подключения к базе данных\n",
    "    if connection:\n",
    "        connection.close()\n",
    "        print(\"Соединение с PostgreSQL закрыто\")"
   ]
  },
  {
   "cell_type": "markdown",
   "id": "fea298ce",
   "metadata": {},
   "source": [
    "# Задание 6. Сгруппируйте клиентов по их zip_code, и посмотрите на среднее количество транзакций на одного клиента. Экспортируйте эти данные в Excel и создайте диаграмму рассеяния, чтобы лучше понять взаимосвязь между использованием общественного транспорта и продажами."
   ]
  },
  {
   "cell_type": "code",
   "execution_count": null,
   "id": "4adcc313",
   "metadata": {},
   "outputs": [
    {
     "name": "stderr",
     "output_type": "stream",
     "text": [
      "C:\\Users\\damdi\\AppData\\Local\\Temp\\ipykernel_20620\\2367750039.py:38: UserWarning: pandas only supports SQLAlchemy connectable (engine/connection) or database string URI or sqlite3 DBAPI2 connection. Other DBAPI2 objects are not tested. Please consider using SQLAlchemy.\n",
      "  data = pandas.read_sql(query, connection)\n"
     ]
    },
    {
     "name": "stdout",
     "output_type": "stream",
     "text": [
      "Данные успешно экспортированы в файл: analysis_sales.csv\n"
     ]
    },
    {
     "data": {
      "image/png": "[encoded data removed]",
      "text/plain": [
       "<Figure size 640x480 with 1 Axes>"
      ]
     },
     "metadata": {},
     "output_type": "display_data"
    },
    {
     "name": "stdout",
     "output_type": "stream",
     "text": [
      "Соединение с PostgreSQL закрыто\n"
     ]
    }
   ],
   "source": [
    "import psycopg2\n",
    "import pandas\n",
    "import matplotlib.pyplot as plt\n",
    "\n",
    "def get_connection(database_name):\n",
    "    # Функция для получения подключения к базе данных\n",
    "    connection = psycopg2.connect(user=\"postgres\",\n",
    "                                  password=\"1\",\n",
    "                                  host=\"localhost\",\n",
    "                                  port=\"5432\",\n",
    "                                  database=database_name)\n",
    "    return connection\n",
    "\n",
    "try:\n",
    "    # Подключение к базе данных \n",
    "    connection = get_connection(\"postgres\")\n",
    "    \n",
    "    # SQL-запрос группировка  по zip_code\n",
    "    query = \"\"\"\n",
    "    SELECT \n",
    "        pts.zip_code,\n",
    "        COUNT(DISTINCT c.customer_id) AS customer_count,\n",
    "        COUNT(*) / COUNT(DISTINCT c.customer_id) AS avg_transactions,\n",
    "        AVG(s.sales_amount) AS avg_sales_amount,\n",
    "        pts.public_transportation_pct\n",
    "    FROM \n",
    "        customers c\n",
    "    JOIN \n",
    "        sales s ON c.customer_id = s.customer_id\n",
    "    JOIN \n",
    "        public_transportation_statistics_by_zip_code pts ON c.postal_code = pts.zip_code\n",
    "    WHERE public_transportation_pct >= 0\n",
    "    GROUP BY \n",
    "        pts.zip_code, pts.public_transportation_pct;\n",
    "    \"\"\"\n",
    "    \n",
    "    # Загрузка  в DataFrame\n",
    "    data = pandas.read_sql(query, connection)\n",
    "\n",
    "    # Экспорт данных в CSV\n",
    "    csv_file = \"analysis_sales.csv\"\n",
    "    data.to_csv(csv_file, index=False)\n",
    "    print(f\"Данные успешно экспортированы в файл: {csv_file}\")\n",
    "\n",
    "    # Построение диаграммы рассеяния\n",
    "    plt.scatter(data['public_transportation_pct'], data['avg_sales_amount'])\n",
    "    plt.title('Взаимосвязь между использованием общественного транспорта и продажами')\n",
    "    plt.xlabel('Процент использования общественного транспорта')\n",
    "    plt.ylabel('Средний объем продаж')\n",
    "    plt.show()\n",
    "\n",
    "except (Exception, psycopg2.Error) as error:\n",
    "    print(\"Ошибка при подключении или работе с PostgreSQL:\", error)\n",
    "\n",
    "finally:\n",
    "    # Закрытие подключения к базе данных\n",
    "    if connection:\n",
    "        connection.close()\n",
    "        print(\"Соединение с PostgreSQL закрыто\")"
   ]
  },
  {
   "cell_type": "markdown",
   "id": "3a59888e",
   "metadata": {},
   "source": [
    "# Задание 7.\tНа основании этого анализа, какие рекомендации вы бы дали руководству компании при рассмотрении возможностей расширения?"
   ]
  },
  {
   "cell_type": "markdown",
   "id": "b6e494fa",
   "metadata": {},
   "source": [
    "### Анализ диаграммы рассеивания  демонстрирует, что корреляция обратнопропорциональная. То есть, чем выше процент пользования общественного транспорта, тем ниже средний объем продаж. \n",
    "### На основе этого анализа, я бы дала следующие рекомендации: выбирать локации, где доля пользования общественным транспортом минимальна. Это позволит увеличить потенциал продаж в данных районах; создать специальные программы лояльности для жителей районов с низким использованием общественного транспорта, чтобы мотивировать их к покупкам через удобные им каналы."
   ]
  }
 ],
 "metadata": {
  "kernelspec": {
   "display_name": "Python 3",
   "language": "python",
   "name": "python3"
  },
  "language_info": {
   "codemirror_mode": {
    "name": "ipython",
    "version": 3
   },
   "file_extension": ".py",
   "mimetype": "text/x-python",
   "name": "python",
   "nbconvert_exporter": "python",
   "pygments_lexer": "ipython3",
   "version": "3.12.0"
  }
 },
 "nbformat": 4,
 "nbformat_minor": 5
}
